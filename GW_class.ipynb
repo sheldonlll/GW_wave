{
 "cells": [
  {
   "cell_type": "code",
   "execution_count": 10,
   "metadata": {},
   "outputs": [],
   "source": [
    "import torch\n",
    "import torch.nn as nn\n",
    "import math\n",
    "import numpy as np\n",
    "from torch.autograd import Variable\n",
    "import torch.nn.functional as F\n",
    "from torch.nn.functional import relu\n",
    "import matplotlib.pyplot as plt\n",
    "%matplotlib inline\n",
    "data_dir='/home/ymh/GW_data_max1e-21_noise5e-22/'\n",
    "device=torch.device('cuda:0')\n",
    "\n",
    "pi=3.1415926\n",
    "G=6.673e-11\n",
    "c=299792458.0\n",
    "\n",
    "Mpc=3.08567758e22\n",
    "Msun = 1.989e30"
   ]
  },
  {
   "cell_type": "code",
   "execution_count": 11,
   "metadata": {},
   "outputs": [],
   "source": [
    "def get_params(batch_size,step):\n",
    "    \n",
    "    \n",
    "    params_dir='injection_bns_%s.txt'%(step*batch_size+1)\n",
    "    params=np.loadtxt(data_dir+params_dir)\n",
    "    params=params.reshape(1,9)\n",
    "    \n",
    "    i=1\n",
    "    while i<batch_size:\n",
    "        params_dir_append='injection_bns_%s.txt'%(step*batch_size+i+1)\n",
    "        params_append=np.loadtxt(data_dir+params_dir_append)\n",
    "        params_append=params_append.reshape(1,9)\n",
    "        params=np.concatenate((params,params_append),axis=0)\n",
    "        i=i+1\n",
    "        \n",
    "    return params"
   ]
  },
  {
   "cell_type": "code",
   "execution_count": 12,
   "metadata": {},
   "outputs": [],
   "source": [
    "def zoom_func(params,start_t,end_t,wave_length,noise_factor):\n",
    "    det_num=3\n",
    "    noise_scale=5.0e-22\n",
    "    #params=Variable(torch.from_numpy(params).cuda())\n",
    "    #params=torch.tensor([params],requires_grad=True,dtype=torch.double).to(device)\n",
    "    inj_time=torch.tensor(params[0],dtype=torch.double,device=device)\n",
    "    Mc=torch.tensor(params[1]*Msun,dtype=torch.double,device=device)\n",
    "    sphi=params[3]\n",
    "    stheta=params[4]\n",
    "    spsi=params[5]\n",
    "    dl0=torch.tensor(params[6],dtype=torch.double,device=device)\n",
    "    cosi=torch.tensor(params[7],dtype=torch.double,device=device)\n",
    "\n",
    "\n",
    "    T1=end_t[0]-start_t[0]\n",
    "    T2=end_t[1]-start_t[1]\n",
    "    T3=end_t[2]-start_t[2]\n",
    "    fs1=wave_length/T1\n",
    "    fs2=wave_length/T2\n",
    "    fs3=wave_length/T3\n",
    "    nsamples=wave_length\n",
    "    t1=start_t[0]+np.arange(nsamples)/fs1\n",
    "    t2=start_t[1]+np.arange(nsamples)/fs2\n",
    "    t3=start_t[2]+np.arange(nsamples)/fs3\n",
    "\n",
    "    Det1_V=np.array([-2.161414928e+06,-3.834695183e+06,4.600350224e+06])\n",
    "    Det2_V=np.array([-7.427604192e+04,-5.496283721e+06,3.224257016e+06])\n",
    "    Det3_V=np.array([4546374.0,842990.0,4378577.0])\n",
    "    Det1_d=np.array([[-0.392614701790361,-0.077612252813702,-0.247388405118613],\n",
    "                     [-0.077612252813702,0.319524089053145,0.227998293910978],\n",
    "                     [-0.247388405118613,0.227998293910978,0.073090613199948]])\n",
    "    Det2_d=np.array([[0.411281743683125,0.140209630402064,0.247293475274344],\n",
    "                     [0.140209630402064,-0.109005942619247,-0.181616030843724],\n",
    "                     [0.247293475274344,-0.181616030843724,-0.302275800865383]])\n",
    "    Det3_d=np.array([[0.243874678248284,-0.099086615422263,-0.232575796255783],\n",
    "                     [-0.099086615422263,-0.447827871578090,0.187828534783639],\n",
    "                     [-0.232575796255783,0.187828534783639,0.203953193329806]])\n",
    "    \n",
    "    \n",
    "    \n",
    "    dl=dl0*Mpc\n",
    "\n",
    "    m1=math.sin(sphi)*math.cos(spsi)-math.cos(sphi)*math.cos(stheta)*math.sin(spsi)\n",
    "    m2=-math.cos(sphi)*math.cos(spsi)-math.sin(sphi)*math.cos(stheta)*math.sin(spsi)\n",
    "    m3=math.sin(stheta)*math.sin(spsi)\n",
    "    n1=-math.sin(sphi)*math.sin(spsi)-math.cos(sphi)*math.cos(stheta)*math.cos(spsi)\n",
    "    n2=math.cos(sphi)*math.sin(spsi)-math.sin(sphi)*math.cos(stheta)*math.cos(spsi)\n",
    "    n3 =math.sin(stheta)*math.cos(spsi)\n",
    "    mm=torch.tensor([m1*m1,m1*m2,m1*m3,m2*m1,m2*m2,m2*m3,m3*m1,m3*m2,m3*m3],dtype=torch.double,device=device)\n",
    "    mn=torch.tensor([m1*n1,m1*n2,m1*n3,m2*n1,m2*n2,m2*n3,m3*n1,m3*n2,m3*n3],dtype=torch.double,device=device)\n",
    "    nm=torch.tensor([n1*m1,n1*m2,n1*m3,n2*m1,n2*m2,n2*m3,n3*m1,n3*m2,n3*m3],dtype=torch.double,device=device)\n",
    "    nn=torch.tensor([n1*n1,n1*n2,n1*n3,n2*n1,n2*n2,n2*n3,n3*n1,n3*n2,n3*n3],dtype=torch.double,device=device)\n",
    "    e_plus=mm-nn\n",
    "    e_cross=mn+nm\n",
    "    #d1=torch.from_numpy(Det1_d.reshape(9)).cuda()\n",
    "    #d2=torch.from_numpy(Det2_d.reshape(9)).cuda()\n",
    "    #d3=torch.from_numpy(Det3_d.reshape(9)).cuda()\n",
    "    d1=torch.tensor(Det1_d.reshape(9),dtype=torch.double,device=device)\n",
    "    d2=torch.tensor(Det2_d.reshape(9),dtype=torch.double,device=device)\n",
    "    d3=torch.tensor(Det3_d.reshape(9),dtype=torch.double,device=device)\n",
    "    #Fp1=torch.sum(e_plus*Variable(d1))\n",
    "    #Fx1=torch.sum(e_cross*Variable(d1))\n",
    "    #Fp2=torch.sum(e_plus*Variable(d2))\n",
    "    #Fx2=torch.sum(e_cross*Variable(d2))\n",
    "    #Fp3=torch.sum(e_plus*Variable(d3))\n",
    "    #Fp3=torch.sum(e_cross*Variable(d3))\n",
    "    Fp1=torch.sum(e_plus*d1)\n",
    "    Fx1=torch.sum(e_cross*d1)\n",
    "    Fp2=torch.sum(e_plus*d2)\n",
    "    Fx2=torch.sum(e_cross*d2)\n",
    "    Fp3=torch.sum(e_plus*d3)\n",
    "    Fx3=torch.sum(e_cross*d3)\n",
    "    \n",
    "    omega = torch.tensor([math.sin(stheta)*math.cos(sphi),math.sin(stheta)*math.sin(sphi),math.cos(stheta)],\n",
    "                         dtype=torch.double,device=device)\n",
    "\n",
    "    #delay_1=-torch.sum(Variable(torch.from_numpy(Det1_V).cuda())*omega)/c\n",
    "    #delay_2=-torch.sum(Variable(torch.from_numpy(Det2_V).cuda())*omega)/c\n",
    "    #delay_3=-torch.sum(Variable(torch.from_numpy(Det3_V).cuda())*omega)/c\n",
    "    delay_1=-torch.sum(torch.from_numpy(Det1_V).to(device)*omega)/c\n",
    "    delay_2=-torch.sum(torch.from_numpy(Det2_V).to(device)*omega)/c\n",
    "    delay_3=-torch.sum(torch.from_numpy(Det3_V).to(device)*omega)/c\n",
    "    tc1=inj_time+delay_1\n",
    "    tc2=inj_time+delay_2\n",
    "    tc3=inj_time+delay_3\n",
    "    idinjt1=torch.ceil((tc1-start_t[0])*fs1)\n",
    "    idinjt2=torch.ceil((tc2-start_t[1])*fs2)\n",
    "    idinjt3=torch.ceil((tc3-start_t[2])*fs3)\n",
    "    \n",
    "    tau1=tc1-torch.from_numpy(t1).to(device)\n",
    "    tau2=tc2-torch.from_numpy(t2).to(device)\n",
    "    tau3=tc3-torch.from_numpy(t3).to(device)\n",
    "    \n",
    "    tau1_l=torch.from_numpy(end_t[0]-t1).to(device)\n",
    "    tau2_l=torch.from_numpy(end_t[1]-t2).to(device)\n",
    "    tau3_l=torch.from_numpy(end_t[2]-t3).to(device)\n",
    "    \n",
    "    \n",
    "    tau1_phi=torch.pow(relu(tau1),5.0/8)\n",
    "    phi_t1=-2*torch.pow((5*G*Mc/(c*c*c)),-5.0/8)*tau1_phi\n",
    "    tau1_Ah=torch.pow(relu(5/(c*tau1)),1.0/4)\n",
    "    Ah1=(1/dl)*torch.pow(G*Mc/(c*c),5.0/4)*tau1_Ah\n",
    "    hp1=0.5*(1+torch.pow(cosi,2.0))*(Ah1*torch.cos(phi_t1))\n",
    "    hx1=Ah1*torch.cos(phi_t1)*cosi\n",
    "    \n",
    "    tau1_phi_l=torch.pow(relu(tau1_l),5.0/8)\n",
    "    phi_t1_l=-2*torch.pow((5*G*Mc/(c*c*c)),-5.0/8)*tau1_phi_l\n",
    "    tau1_Ah_l=torch.pow(relu(5/(c*tau1_l)),1.0/4)\n",
    "    Ah1_l=(1/dl)*torch.pow(G*Mc/(c*c),5.0/4)*tau1_Ah_l\n",
    "    hp1_l=0.5*(1+torch.pow(cosi,2.0))*(Ah1_l*torch.cos(phi_t1_l))\n",
    "    hx1_l=Ah1_l*torch.cos(phi_t1_l)*cosi\n",
    "    \n",
    "\n",
    "    tau2_phi=torch.pow(relu(tau2),5.0/8)\n",
    "    phi_t2=-2*torch.pow((5*G*Mc/(c*c*c)),-5.0/8)*tau2_phi\n",
    "    tau2_Ah=torch.pow(relu(5/(c*tau2)),1.0/4)\n",
    "    Ah2=(1/dl)*torch.pow(G*Mc/(c*c),5.0/4)*tau2_Ah\n",
    "    hp2=0.5*(1+torch.pow(cosi,2.0))*(Ah2*torch.cos(phi_t2))\n",
    "    hx2=Ah2*torch.cos(phi_t2)*cosi\n",
    "    \n",
    "    tau2_phi_l=torch.pow(relu(tau2_l),5.0/8)\n",
    "    phi_t2_l=-2*torch.pow((5*G*Mc/(c*c*c)),-5.0/8)*tau2_phi_l\n",
    "    tau2_Ah_l=torch.pow(relu(5/(c*tau2_l)),1.0/4)\n",
    "    Ah2_l=(1/dl)*torch.pow(G*Mc/(c*c),5.0/4)*tau2_Ah_l\n",
    "    hp2_l=0.5*(1+torch.pow(cosi,2.0))*(Ah2_l*torch.cos(phi_t2_l))\n",
    "    hx2_l=Ah2_l*torch.cos(phi_t2_l)*cosi\n",
    "\n",
    "    \n",
    "    tau3_phi=torch.pow(relu(tau3),5.0/8)\n",
    "    phi_t3=-2*torch.pow((5*G*Mc/(c*c*c)),-5.0/8)*tau3_phi\n",
    "    tau3_Ah=torch.pow(relu(5/(c*tau3)),1.0/4)\n",
    "    Ah3=(1/dl)*torch.pow(G*Mc/(c*c),5.0/4)*tau3_Ah\n",
    "    hp3=0.5*(1+torch.pow(cosi,2.0))*(Ah3*torch.cos(phi_t3))\n",
    "    hx3=Ah3*torch.cos(phi_t3)*cosi\n",
    "    \n",
    "    tau3_phi_l=torch.pow(relu(tau3_l),5.0/8)\n",
    "    phi_t3_l=-2*torch.pow((5*G*Mc/(c*c*c)),-5.0/8)*tau3_phi_l\n",
    "    tau3_Ah_l=torch.pow(relu(5/(c*tau3_l)),1.0/4)\n",
    "    Ah3_l=(1/dl)*torch.pow(G*Mc/(c*c),5.0/4)*tau3_Ah_l\n",
    "    hp3_l=0.5*(1+torch.pow(cosi,2.0))*(Ah3_l*torch.cos(phi_t3_l))\n",
    "    hx3_l=Ah3_l*torch.cos(phi_t3_l)*cosi\n",
    "    \n",
    "    new_scale=1.0e-22\n",
    "    \n",
    "    wnoise1=noise_scale*torch.from_numpy(np.random.randn(wave_length)).to(device)\n",
    "    wnoise2=noise_scale*torch.from_numpy(np.random.randn(wave_length)).to(device)\n",
    "    wnoise3=noise_scale*torch.from_numpy(np.random.randn(wave_length)).to(device)\n",
    "    Wave1=(Fp1*hp1+Fx1*hx1)\n",
    "    Wave2=(Fp2*hp2+Fx2*hx2)\n",
    "    Wave3=(Fp3*hp3+Fx3*hx3)\n",
    "\n",
    "    wave1_l=(Fp1*hp1_l+Fx1*hx1_l).view(1,1,wave_length,1)\n",
    "    wave2_l=(Fp2*hp2_l+Fx2*hx2_l).view(1,1,wave_length,1)\n",
    "    wave3_l=(Fp3*hp3_l+Fx3*hx3_l).view(1,1,wave_length,1)\n",
    "    energy1=torch.pow(wave1_l,2).mean().sqrt()\n",
    "    energy2=torch.pow(wave2_l,2).mean().sqrt()\n",
    "    energy3=torch.pow(wave3_l,2).mean().sqrt()\n",
    "    \n",
    "    wave1_c=Wave1*(new_scale/energy1)\n",
    "    wave2_c=Wave2*(new_scale/energy2)\n",
    "    wave3_c=Wave3*(new_scale/energy3)\n",
    "\n",
    "    Wave1_n=wave1_c+wnoise1*noise_factor\n",
    "    Wave2_n=wave2_c+wnoise2*noise_factor\n",
    "    Wave3_n=wave3_c+wnoise3*noise_factor\n",
    "    Wave1_n=Wave1_n.view(1,1,wave_length,1)\n",
    "    Wave2_n=Wave2_n.view(1,1,wave_length,1)\n",
    "    Wave3_n=Wave3_n.view(1,1,wave_length,1)\n",
    "    #Ah1=Ah1.view(1,1,wave_length,1)\n",
    "    #Ah2=Ah2.view(1,1,wave_length,1)\n",
    "    #Ah3=Ah3.view(1,1,wave_length,1)\n",
    "    Ah1=wave1_c.view(1,1,wave_length,1)\n",
    "    Ah2=wave2_c.view(1,1,wave_length,1)\n",
    "    Ah3=wave3_c.view(1,1,wave_length,1)\n",
    "    Ahtot=torch.cat((Ah1,Ah2,Ah3),0)\n",
    "    Wave=torch.cat((Wave1_n,Wave2_n,Wave3_n),0)\n",
    "    Wave_l=torch.cat((wave1_l,wave2_l,wave3_l),0)\n",
    "    tc=torch.tensor([tc1,tc2,tc3],device=device)\n",
    "    \n",
    "    return Wave*2.0e21,Ahtot*2.0e21,tc"
   ]
  },
  {
   "cell_type": "code",
   "execution_count": 13,
   "metadata": {},
   "outputs": [],
   "source": [
    "def get_batch(batch_size,step,noise_factor,train_id):\n",
    "    resolution=[16384,2048,1024,512,256,128,64,32,16]\n",
    "    params=get_params(batch_size,step)\n",
    "    waves=[[],[],[],[],[],[],[],[],[]]\n",
    "    ahtots=[[],[],[],[],[],[],[],[],[]]\n",
    "    inj_times=[]\n",
    "    start_t=np.zeros((batch_size,3))+0.0\n",
    "    end_t=np.zeros((batch_size,3))+1.0\n",
    "    for i in range(batch_size):\n",
    "        wave,ahtot,tc=zoom_func(params[i],start_t[i,:],end_t[i,:],resolution[0],noise_factor)\n",
    "        waves[0].append(wave)\n",
    "        ahtots[0].append(ahtot)\n",
    "        inj_times.append(tc)\n",
    "    waves[0]=torch.cat(waves[0],0)\n",
    "    ahtots[0]=torch.cat(ahtots[0],0)\n",
    "    inj_times=torch.cat(inj_times,0)\n",
    "    \n",
    "    for k in range(1,9):\n",
    "        if train_id==k:\n",
    "            start_t=inj_times.data.cpu().numpy()-np.ones(batch_size*3)*(0.5**(k-1))*6.5/64-(0.5**(k-1))*1.0/64\n",
    "        else:\n",
    "            start_t=inj_times.data.cpu().numpy()-np.random.rand(batch_size*3)*(0.5**(k-1))*6.0/64-(0.5**(k-1))*1.0/64\n",
    "        start_p=np.int32(np.around(start_t*resolution[0]))\n",
    "        for i in range(3*batch_size):\n",
    "            wave1=waves[0][i,:,start_p[i]:(start_p[i]+resolution[k]),:].view(1,1,resolution[k],1)\n",
    "            ahtot1=ahtots[0][i,:,start_p[i]:(start_p[i]+resolution[k]),:].view(1,1,resolution[k],1)\n",
    "            waves[k].append(wave1)\n",
    "            ahtots[k].append(ahtot1)\n",
    "        waves[k]=torch.cat(waves[k],0)\n",
    "        ahtots[k]=torch.cat(ahtots[k],0)\n",
    "        \n",
    "\n",
    "    return waves,ahtots,inj_times\n"
   ]
  },
  {
   "cell_type": "code",
   "execution_count": 14,
   "metadata": {},
   "outputs": [
    {
     "data": {
      "text/plain": [
       "'\\n    start_t=inj_times.data.cpu().numpy()-np.random.rand(batch_size*3)*6.0/64-1.0/64\\n    #start_t=inj_times.data.cpu().numpy()-np.ones(batch_size*3)*7.4/64-0.5/64\\n    end_t=start_t+8.0/64\\n    start_t=start_t.reshape(-1,3)\\n    end_t=end_t.reshape(-1,3)\\n    for i in range(batch_size):\\n        wave,ahtot,tc=zoom_func(params[i],start_t[i,:],end_t[i,:],2048,noise_factor)\\n        waves[1].append(wave)\\n        ahtots[1].append(ahtot)\\n        #inj_times.append(tc)\\n    waves[1]=torch.cat(waves[1],0)\\n    ahtots[1]=torch.cat(ahtots[1],0)\\n    \\n    #start_t=inj_times.data.cpu().numpy()-np.random.rand(batch_size*3)*4.0*5.0/(32*64)-0.5*5.0/(32*64)\\n    start_t=inj_times.data.cpu().numpy()-np.ones(batch_size*3)*7.4*8.0/(64*64)-0.5*8.0/(64*64)\\n    end_t=start_t+8.0*8.0/(64*64)\\n    start_t=start_t.reshape(-1,3)\\n    end_t=end_t.reshape(-1,3)\\n    for i in range(batch_size):\\n        wave,ahtot,tc=zoom_func(params[i],start_t[i,:],end_t[i,:],256,noise_factor)\\n        waves[2].append(wave)\\n        ahtots[2].append(ahtot)\\n        #inj_times.append(tc)\\n    waves[2]=torch.cat(waves[2],0)\\n    ahtots[2]=torch.cat(ahtots[2],0)\\n'"
      ]
     },
     "execution_count": 14,
     "metadata": {},
     "output_type": "execute_result"
    }
   ],
   "source": [
    "'''\n",
    "    start_t=inj_times.data.cpu().numpy()-np.random.rand(batch_size*3)*6.0/64-1.0/64\n",
    "    #start_t=inj_times.data.cpu().numpy()-np.ones(batch_size*3)*7.4/64-0.5/64\n",
    "    end_t=start_t+8.0/64\n",
    "    start_t=start_t.reshape(-1,3)\n",
    "    end_t=end_t.reshape(-1,3)\n",
    "    for i in range(batch_size):\n",
    "        wave,ahtot,tc=zoom_func(params[i],start_t[i,:],end_t[i,:],2048,noise_factor)\n",
    "        waves[1].append(wave)\n",
    "        ahtots[1].append(ahtot)\n",
    "        #inj_times.append(tc)\n",
    "    waves[1]=torch.cat(waves[1],0)\n",
    "    ahtots[1]=torch.cat(ahtots[1],0)\n",
    "    \n",
    "    #start_t=inj_times.data.cpu().numpy()-np.random.rand(batch_size*3)*4.0*5.0/(32*64)-0.5*5.0/(32*64)\n",
    "    start_t=inj_times.data.cpu().numpy()-np.ones(batch_size*3)*7.4*8.0/(64*64)-0.5*8.0/(64*64)\n",
    "    end_t=start_t+8.0*8.0/(64*64)\n",
    "    start_t=start_t.reshape(-1,3)\n",
    "    end_t=end_t.reshape(-1,3)\n",
    "    for i in range(batch_size):\n",
    "        wave,ahtot,tc=zoom_func(params[i],start_t[i,:],end_t[i,:],256,noise_factor)\n",
    "        waves[2].append(wave)\n",
    "        ahtots[2].append(ahtot)\n",
    "        #inj_times.append(tc)\n",
    "    waves[2]=torch.cat(waves[2],0)\n",
    "    ahtots[2]=torch.cat(ahtots[2],0)\n",
    "'''"
   ]
  },
  {
   "cell_type": "code",
   "execution_count": 15,
   "metadata": {},
   "outputs": [
    {
     "data": {
      "text/plain": [
       "Net_class_2048(\n",
       "  (conv1): Conv2d(1, 16, kernel_size=(17, 1), stride=(1, 1), padding=(8, 0), bias=False)\n",
       "  (pool1): MaxPool2d(kernel_size=(4, 1), stride=(4, 1), padding=0, dilation=1, ceil_mode=False)\n",
       "  (bn1): BatchNorm2d(16, eps=1e-05, momentum=0.1, affine=True, track_running_stats=True)\n",
       "  (relu): ReLU(inplace)\n",
       "  (conv2): Conv2d(16, 32, kernel_size=(9, 1), stride=(1, 1), padding=(4, 0), bias=False)\n",
       "  (pool2): MaxPool2d(kernel_size=(4, 1), stride=(4, 1), padding=0, dilation=1, ceil_mode=False)\n",
       "  (bn2): BatchNorm2d(32, eps=1e-05, momentum=0.1, affine=True, track_running_stats=True)\n",
       "  (conv3): Conv2d(32, 64, kernel_size=(7, 1), stride=(1, 1), padding=(3, 0), bias=False)\n",
       "  (pool3): MaxPool2d(kernel_size=(2, 1), stride=(2, 1), padding=0, dilation=1, ceil_mode=False)\n",
       "  (bn3): BatchNorm2d(64, eps=1e-05, momentum=0.1, affine=True, track_running_stats=True)\n",
       "  (fc1): Linear(in_features=4096, out_features=64, bias=True)\n",
       "  (fc2): Linear(in_features=64, out_features=2, bias=True)\n",
       "  (softmax): Softmax()\n",
       "  (sigmoid): Sigmoid()\n",
       ")"
      ]
     },
     "execution_count": 15,
     "metadata": {},
     "output_type": "execute_result"
    }
   ],
   "source": [
    "class Net_class_2048(nn.Module):\n",
    "    def __init__(self):\n",
    "        super(Net_class_2048,self).__init__()\n",
    "        self.conv1=nn.Conv2d(1,16,(17,1),stride=(1,1),padding=(8,0),bias=False)\n",
    "        self.pool1=nn.MaxPool2d((4,1),(4,1))\n",
    "        self.bn1=nn.BatchNorm2d(16)\n",
    "        self.relu=nn.ReLU(inplace=True)\n",
    "        self.conv2=nn.Conv2d(16,32,(9,1),stride=(1,1),padding=(4,0),bias=False)\n",
    "        self.pool2=nn.MaxPool2d((4,1),(4,1))\n",
    "        self.bn2=nn.BatchNorm2d(32)\n",
    "        self.conv3=nn.Conv2d(32,64,(7,1),stride=(1,1),padding=(3,0),bias=False)\n",
    "        self.pool3=nn.MaxPool2d((2,1),(2,1))\n",
    "        self.bn3=nn.BatchNorm2d(64)\n",
    "        #self.conv4=nn.Conv2d(64,128,(7,1),stride=(1,1),padding=(3,0),bias=False)\n",
    "        #self.pool4=nn.MaxPool2d((2,1),(2,1))\n",
    "        #self.bn4=nn.BatchNorm2d(128)\n",
    "        self.fc1=nn.Linear(64*64,64)\n",
    "        self.fc2=nn.Linear(64,2)\n",
    "        #self.conv5=nn.Conv2d(256,1,(1,1),stride=(1,1),bias=False)\n",
    "        self.softmax=nn.Softmax()\n",
    "        self.sigmoid=nn.Sigmoid()\n",
    "    def forward(self,x):\n",
    "        x=self.conv1(x)\n",
    "        x=self.relu(self.pool1(self.bn1(x)))\n",
    "\n",
    "        x=self.conv2(x)\n",
    "        x=self.relu(self.pool2(self.bn2(x)))\n",
    "\n",
    "        x=self.conv3(x)\n",
    "        x=self.relu(self.pool3(self.bn3(x)))\n",
    "\n",
    "        #x=self.conv4(x)\n",
    "        #x=self.relu(self.pool4(self.bn4(x)))\n",
    "\n",
    "        x=self.relu(self.fc1(x.view(-1,64*64)))\n",
    "        x=self.fc2(x)\n",
    "        #x=self.conv5(x)\n",
    "        x=self.softmax(x)\n",
    "        return x\n",
    "    \n",
    "net_2048=Net_class_2048().double()\n",
    "#net_zoom0=torch.load('/home/yinminghao/GW_nets/net0_zoom0_max1e-21_noise5e-22.pkl')\n",
    "net_2048.to(device)"
   ]
  },
  {
   "cell_type": "code",
   "execution_count": 16,
   "metadata": {},
   "outputs": [
    {
     "data": {
      "text/plain": [
       "Net_class_1024(\n",
       "  (conv1): Conv2d(1, 16, kernel_size=(17, 1), stride=(1, 1), padding=(8, 0), bias=False)\n",
       "  (pool1): MaxPool2d(kernel_size=(4, 1), stride=(4, 1), padding=0, dilation=1, ceil_mode=False)\n",
       "  (bn1): BatchNorm2d(16, eps=1e-05, momentum=0.1, affine=True, track_running_stats=True)\n",
       "  (relu): ReLU(inplace)\n",
       "  (conv2): Conv2d(16, 32, kernel_size=(9, 1), stride=(1, 1), padding=(4, 0), bias=False)\n",
       "  (pool2): MaxPool2d(kernel_size=(4, 1), stride=(4, 1), padding=0, dilation=1, ceil_mode=False)\n",
       "  (bn2): BatchNorm2d(32, eps=1e-05, momentum=0.1, affine=True, track_running_stats=True)\n",
       "  (conv3): Conv2d(32, 64, kernel_size=(7, 1), stride=(1, 1), padding=(3, 0), bias=False)\n",
       "  (pool3): MaxPool2d(kernel_size=(2, 1), stride=(2, 1), padding=0, dilation=1, ceil_mode=False)\n",
       "  (bn3): BatchNorm2d(64, eps=1e-05, momentum=0.1, affine=True, track_running_stats=True)\n",
       "  (fc1): Linear(in_features=2048, out_features=64, bias=True)\n",
       "  (fc2): Linear(in_features=64, out_features=2, bias=True)\n",
       "  (softmax): Softmax()\n",
       "  (sigmoid): Sigmoid()\n",
       ")"
      ]
     },
     "execution_count": 16,
     "metadata": {},
     "output_type": "execute_result"
    }
   ],
   "source": [
    "class Net_class_1024(nn.Module):\n",
    "    def __init__(self):\n",
    "        super(Net_class_1024,self).__init__()\n",
    "        self.conv1=nn.Conv2d(1,16,(17,1),stride=(1,1),padding=(8,0),bias=False)\n",
    "        self.pool1=nn.MaxPool2d((4,1),(4,1))\n",
    "        self.bn1=nn.BatchNorm2d(16)\n",
    "        self.relu=nn.ReLU(inplace=True)\n",
    "        self.conv2=nn.Conv2d(16,32,(9,1),stride=(1,1),padding=(4,0),bias=False)\n",
    "        self.pool2=nn.MaxPool2d((4,1),(4,1))\n",
    "        self.bn2=nn.BatchNorm2d(32)\n",
    "        self.conv3=nn.Conv2d(32,64,(7,1),stride=(1,1),padding=(3,0),bias=False)\n",
    "        self.pool3=nn.MaxPool2d((2,1),(2,1))\n",
    "        self.bn3=nn.BatchNorm2d(64)\n",
    "        #self.conv4=nn.Conv2d(64,128,(7,1),stride=(1,1),padding=(3,0),bias=False)\n",
    "        #self.pool4=nn.MaxPool2d((2,1),(2,1))\n",
    "        #self.bn4=nn.BatchNorm2d(128)\n",
    "        self.fc1=nn.Linear(32*64,64)\n",
    "        self.fc2=nn.Linear(64,2)\n",
    "        #self.conv5=nn.Conv2d(256,1,(1,1),stride=(1,1),bias=False)\n",
    "        self.softmax=nn.Softmax()\n",
    "        self.sigmoid=nn.Sigmoid()\n",
    "    def forward(self,x):\n",
    "        x=self.conv1(x)\n",
    "        x=self.relu(self.pool1(self.bn1(x)))\n",
    "\n",
    "        x=self.conv2(x)\n",
    "        x=self.relu(self.pool2(self.bn2(x)))\n",
    "\n",
    "        x=self.conv3(x)\n",
    "        x=self.relu(self.pool3(self.bn3(x)))\n",
    "\n",
    "        #x=self.conv4(x)\n",
    "        #x=self.relu(self.pool4(self.bn4(x)))\n",
    "\n",
    "        x=self.relu(self.fc1(x.view(-1,32*64)))\n",
    "        x=self.fc2(x)\n",
    "        #x=self.conv5(x)\n",
    "        x=self.softmax(x)\n",
    "        return x\n",
    "    \n",
    "net_1024=Net_class_1024().double()\n",
    "#net_zoom0=torch.load('/home/yinminghao/GW_nets/net0_zoom0_max1e-21_noise5e-22.pkl')\n",
    "net_1024.to(device)"
   ]
  },
  {
   "cell_type": "code",
   "execution_count": 17,
   "metadata": {},
   "outputs": [
    {
     "data": {
      "text/plain": [
       "Net_class_512(\n",
       "  (conv1): Conv2d(1, 16, kernel_size=(17, 1), stride=(1, 1), padding=(8, 0), bias=False)\n",
       "  (pool1): MaxPool2d(kernel_size=(4, 1), stride=(4, 1), padding=0, dilation=1, ceil_mode=False)\n",
       "  (bn1): BatchNorm2d(16, eps=1e-05, momentum=0.1, affine=True, track_running_stats=True)\n",
       "  (relu): ReLU(inplace)\n",
       "  (conv2): Conv2d(16, 32, kernel_size=(9, 1), stride=(1, 1), padding=(4, 0), bias=False)\n",
       "  (pool2): MaxPool2d(kernel_size=(4, 1), stride=(4, 1), padding=0, dilation=1, ceil_mode=False)\n",
       "  (bn2): BatchNorm2d(32, eps=1e-05, momentum=0.1, affine=True, track_running_stats=True)\n",
       "  (conv3): Conv2d(32, 64, kernel_size=(7, 1), stride=(1, 1), padding=(3, 0), bias=False)\n",
       "  (pool3): MaxPool2d(kernel_size=(2, 1), stride=(2, 1), padding=0, dilation=1, ceil_mode=False)\n",
       "  (bn3): BatchNorm2d(64, eps=1e-05, momentum=0.1, affine=True, track_running_stats=True)\n",
       "  (fc1): Linear(in_features=1024, out_features=64, bias=True)\n",
       "  (fc2): Linear(in_features=64, out_features=2, bias=True)\n",
       "  (softmax): Softmax()\n",
       "  (sigmoid): Sigmoid()\n",
       ")"
      ]
     },
     "execution_count": 17,
     "metadata": {},
     "output_type": "execute_result"
    }
   ],
   "source": [
    "class Net_class_512(nn.Module):\n",
    "    def __init__(self):\n",
    "        super(Net_class_512,self).__init__()\n",
    "        self.conv1=nn.Conv2d(1,16,(17,1),stride=(1,1),padding=(8,0),bias=False)\n",
    "        self.pool1=nn.MaxPool2d((4,1),(4,1))\n",
    "        self.bn1=nn.BatchNorm2d(16)\n",
    "        self.relu=nn.ReLU(inplace=True)\n",
    "        self.conv2=nn.Conv2d(16,32,(9,1),stride=(1,1),padding=(4,0),bias=False)\n",
    "        self.pool2=nn.MaxPool2d((4,1),(4,1))\n",
    "        self.bn2=nn.BatchNorm2d(32)\n",
    "        self.conv3=nn.Conv2d(32,64,(7,1),stride=(1,1),padding=(3,0),bias=False)\n",
    "        self.pool3=nn.MaxPool2d((2,1),(2,1))\n",
    "        self.bn3=nn.BatchNorm2d(64)\n",
    "        #self.conv4=nn.Conv2d(64,128,(7,1),stride=(1,1),padding=(3,0),bias=False)\n",
    "        #self.pool4=nn.MaxPool2d((2,1),(2,1))\n",
    "        #self.bn4=nn.BatchNorm2d(128)\n",
    "        self.fc1=nn.Linear(16*64,64)\n",
    "        self.fc2=nn.Linear(64,2)\n",
    "        #self.conv5=nn.Conv2d(256,1,(1,1),stride=(1,1),bias=False)\n",
    "        self.softmax=nn.Softmax()\n",
    "        self.sigmoid=nn.Sigmoid()\n",
    "    def forward(self,x):\n",
    "        x=self.conv1(x)\n",
    "        x=self.relu(self.pool1(self.bn1(x)))\n",
    "\n",
    "        x=self.conv2(x)\n",
    "        x=self.relu(self.pool2(self.bn2(x)))\n",
    "\n",
    "        x=self.conv3(x)\n",
    "        x=self.relu(self.pool3(self.bn3(x)))\n",
    "\n",
    "        #x=self.conv4(x)\n",
    "        #x=self.relu(self.pool4(self.bn4(x)))\n",
    "\n",
    "        x=self.relu(self.fc1(x.view(-1,16*64)))\n",
    "        x=self.fc2(x)\n",
    "        #x=self.conv5(x)\n",
    "        x=self.softmax(x)\n",
    "        return x\n",
    "    \n",
    "net_512=Net_class_512().double()\n",
    "#net_zoom0=torch.load('/home/yinminghao/GW_nets/net0_zoom0_max1e-21_noise5e-22.pkl')\n",
    "net_512.to(device)"
   ]
  },
  {
   "cell_type": "code",
   "execution_count": 18,
   "metadata": {},
   "outputs": [
    {
     "data": {
      "text/plain": [
       "Net_class_256(\n",
       "  (conv1): Conv2d(1, 16, kernel_size=(17, 1), stride=(1, 1), padding=(8, 0), bias=False)\n",
       "  (pool1): MaxPool2d(kernel_size=(4, 1), stride=(4, 1), padding=0, dilation=1, ceil_mode=False)\n",
       "  (bn1): BatchNorm2d(16, eps=1e-05, momentum=0.1, affine=True, track_running_stats=True)\n",
       "  (relu): ReLU(inplace)\n",
       "  (conv2): Conv2d(16, 32, kernel_size=(9, 1), stride=(1, 1), padding=(4, 0), bias=False)\n",
       "  (pool2): MaxPool2d(kernel_size=(2, 1), stride=(2, 1), padding=0, dilation=1, ceil_mode=False)\n",
       "  (bn2): BatchNorm2d(32, eps=1e-05, momentum=0.1, affine=True, track_running_stats=True)\n",
       "  (conv3): Conv2d(32, 64, kernel_size=(7, 1), stride=(1, 1), padding=(3, 0), bias=False)\n",
       "  (pool3): MaxPool2d(kernel_size=(2, 1), stride=(2, 1), padding=0, dilation=1, ceil_mode=False)\n",
       "  (bn3): BatchNorm2d(64, eps=1e-05, momentum=0.1, affine=True, track_running_stats=True)\n",
       "  (fc1): Linear(in_features=1024, out_features=64, bias=True)\n",
       "  (fc2): Linear(in_features=64, out_features=2, bias=True)\n",
       "  (softmax): Softmax()\n",
       "  (sigmoid): Sigmoid()\n",
       ")"
      ]
     },
     "execution_count": 18,
     "metadata": {},
     "output_type": "execute_result"
    }
   ],
   "source": [
    "class Net_class_256(nn.Module):\n",
    "    def __init__(self):\n",
    "        super(Net_class_256,self).__init__()\n",
    "        self.conv1=nn.Conv2d(1,16,(17,1),stride=(1,1),padding=(8,0),bias=False)\n",
    "        self.pool1=nn.MaxPool2d((4,1),(4,1))\n",
    "        self.bn1=nn.BatchNorm2d(16)\n",
    "        self.relu=nn.ReLU(inplace=True)\n",
    "        self.conv2=nn.Conv2d(16,32,(9,1),stride=(1,1),padding=(4,0),bias=False)\n",
    "        self.pool2=nn.MaxPool2d((2,1),(2,1))\n",
    "        self.bn2=nn.BatchNorm2d(32)\n",
    "        self.conv3=nn.Conv2d(32,64,(7,1),stride=(1,1),padding=(3,0),bias=False)\n",
    "        self.pool3=nn.MaxPool2d((2,1),(2,1))\n",
    "        self.bn3=nn.BatchNorm2d(64)\n",
    "        #self.conv4=nn.Conv2d(64,128,(7,1),stride=(1,1),padding=(3,0),bias=False)\n",
    "        #self.pool4=nn.MaxPool2d((2,1),(2,1))\n",
    "        #self.bn4=nn.BatchNorm2d(128)\n",
    "        self.fc1=nn.Linear(16*64,64)\n",
    "        self.fc2=nn.Linear(64,2)\n",
    "        #self.conv5=nn.Conv2d(256,1,(1,1),stride=(1,1),bias=False)\n",
    "        self.softmax=nn.Softmax()\n",
    "        self.sigmoid=nn.Sigmoid()\n",
    "    def forward(self,x):\n",
    "        x=self.conv1(x)\n",
    "        x=self.relu(self.pool1(self.bn1(x)))\n",
    "\n",
    "        x=self.conv2(x)\n",
    "        x=self.relu(self.pool2(self.bn2(x)))\n",
    "\n",
    "        x=self.conv3(x)\n",
    "        x=self.relu(self.pool3(self.bn3(x)))\n",
    "\n",
    "        #x=self.conv4(x)\n",
    "        #x=self.relu(self.pool4(self.bn4(x)))\n",
    "\n",
    "        x=self.relu(self.fc1(x.view(-1,16*64)))\n",
    "        x=self.fc2(x)\n",
    "        #x=self.conv5(x)\n",
    "        x=self.softmax(x)\n",
    "        return x\n",
    "    \n",
    "net_256=Net_class_256().double()\n",
    "#net_zoom0=torch.load('/home/yinminghao/GW_nets/net0_zoom0_max1e-21_noise5e-22.pkl')\n",
    "net_256.to(device)"
   ]
  },
  {
   "cell_type": "code",
   "execution_count": 19,
   "metadata": {},
   "outputs": [
    {
     "data": {
      "text/plain": [
       "Net_class_128(\n",
       "  (conv1): Conv2d(1, 16, kernel_size=(17, 1), stride=(1, 1), padding=(8, 0), bias=False)\n",
       "  (pool1): MaxPool2d(kernel_size=(4, 1), stride=(4, 1), padding=0, dilation=1, ceil_mode=False)\n",
       "  (bn1): BatchNorm2d(16, eps=1e-05, momentum=0.1, affine=True, track_running_stats=True)\n",
       "  (relu): ReLU(inplace)\n",
       "  (conv2): Conv2d(16, 32, kernel_size=(9, 1), stride=(1, 1), padding=(4, 0), bias=False)\n",
       "  (pool2): MaxPool2d(kernel_size=(2, 1), stride=(2, 1), padding=0, dilation=1, ceil_mode=False)\n",
       "  (bn2): BatchNorm2d(32, eps=1e-05, momentum=0.1, affine=True, track_running_stats=True)\n",
       "  (conv3): Conv2d(32, 64, kernel_size=(7, 1), stride=(1, 1), padding=(3, 0), bias=False)\n",
       "  (pool3): MaxPool2d(kernel_size=(2, 1), stride=(2, 1), padding=0, dilation=1, ceil_mode=False)\n",
       "  (bn3): BatchNorm2d(64, eps=1e-05, momentum=0.1, affine=True, track_running_stats=True)\n",
       "  (fc1): Linear(in_features=512, out_features=64, bias=True)\n",
       "  (fc2): Linear(in_features=64, out_features=2, bias=True)\n",
       "  (softmax): Softmax()\n",
       "  (sigmoid): Sigmoid()\n",
       ")"
      ]
     },
     "execution_count": 19,
     "metadata": {},
     "output_type": "execute_result"
    }
   ],
   "source": [
    "class Net_class_128(nn.Module):\n",
    "    def __init__(self):\n",
    "        super(Net_class_128,self).__init__()\n",
    "        self.conv1=nn.Conv2d(1,16,(17,1),stride=(1,1),padding=(8,0),bias=False)\n",
    "        self.pool1=nn.MaxPool2d((4,1),(4,1))\n",
    "        self.bn1=nn.BatchNorm2d(16)\n",
    "        self.relu=nn.ReLU(inplace=True)\n",
    "        self.conv2=nn.Conv2d(16,32,(9,1),stride=(1,1),padding=(4,0),bias=False)\n",
    "        self.pool2=nn.MaxPool2d((2,1),(2,1))\n",
    "        self.bn2=nn.BatchNorm2d(32)\n",
    "        self.conv3=nn.Conv2d(32,64,(7,1),stride=(1,1),padding=(3,0),bias=False)\n",
    "        self.pool3=nn.MaxPool2d((2,1),(2,1))\n",
    "        self.bn3=nn.BatchNorm2d(64)\n",
    "        #self.conv4=nn.Conv2d(64,128,(7,1),stride=(1,1),padding=(3,0),bias=False)\n",
    "        #self.pool4=nn.MaxPool2d((2,1),(2,1))\n",
    "        #self.bn4=nn.BatchNorm2d(128)\n",
    "        self.fc1=nn.Linear(8*64,64)\n",
    "        self.fc2=nn.Linear(64,2)\n",
    "        #self.conv5=nn.Conv2d(256,1,(1,1),stride=(1,1),bias=False)\n",
    "        self.softmax=nn.Softmax()\n",
    "        self.sigmoid=nn.Sigmoid()\n",
    "    def forward(self,x):\n",
    "        x=self.conv1(x)\n",
    "        x=self.relu(self.pool1(self.bn1(x)))\n",
    "\n",
    "        x=self.conv2(x)\n",
    "        x=self.relu(self.pool2(self.bn2(x)))\n",
    "\n",
    "        x=self.conv3(x)\n",
    "        x=self.relu(self.pool3(self.bn3(x)))\n",
    "\n",
    "        #x=self.conv4(x)\n",
    "        #x=self.relu(self.pool4(self.bn4(x)))\n",
    "\n",
    "        x=self.relu(self.fc1(x.view(-1,8*64)))\n",
    "        x=self.fc2(x)\n",
    "        #x=self.conv5(x)\n",
    "        x=self.softmax(x)\n",
    "        return x\n",
    "    \n",
    "net_128=Net_class_128().double()\n",
    "#net_zoom0=torch.load('/home/yinminghao/GW_nets/net0_zoom0_max1e-21_noise5e-22.pkl')\n",
    "net_128.to(device)"
   ]
  },
  {
   "cell_type": "code",
   "execution_count": 20,
   "metadata": {},
   "outputs": [
    {
     "data": {
      "text/plain": [
       "Net_class_64(\n",
       "  (conv1): Conv2d(1, 16, kernel_size=(17, 1), stride=(1, 1), padding=(8, 0), bias=False)\n",
       "  (pool1): MaxPool2d(kernel_size=(4, 1), stride=(4, 1), padding=0, dilation=1, ceil_mode=False)\n",
       "  (bn1): BatchNorm2d(16, eps=1e-05, momentum=0.1, affine=True, track_running_stats=True)\n",
       "  (relu): ReLU(inplace)\n",
       "  (conv2): Conv2d(16, 32, kernel_size=(9, 1), stride=(1, 1), padding=(4, 0), bias=False)\n",
       "  (pool2): MaxPool2d(kernel_size=(2, 1), stride=(2, 1), padding=0, dilation=1, ceil_mode=False)\n",
       "  (bn2): BatchNorm2d(32, eps=1e-05, momentum=0.1, affine=True, track_running_stats=True)\n",
       "  (conv3): Conv2d(32, 64, kernel_size=(7, 1), stride=(1, 1), padding=(3, 0), bias=False)\n",
       "  (pool3): MaxPool2d(kernel_size=(2, 1), stride=(2, 1), padding=0, dilation=1, ceil_mode=False)\n",
       "  (bn3): BatchNorm2d(64, eps=1e-05, momentum=0.1, affine=True, track_running_stats=True)\n",
       "  (fc1): Linear(in_features=256, out_features=64, bias=True)\n",
       "  (fc2): Linear(in_features=64, out_features=2, bias=True)\n",
       "  (softmax): Softmax()\n",
       "  (sigmoid): Sigmoid()\n",
       ")"
      ]
     },
     "execution_count": 20,
     "metadata": {},
     "output_type": "execute_result"
    }
   ],
   "source": [
    "class Net_class_64(nn.Module):\n",
    "    def __init__(self):\n",
    "        super(Net_class_64,self).__init__()\n",
    "        self.conv1=nn.Conv2d(1,16,(17,1),stride=(1,1),padding=(8,0),bias=False)\n",
    "        self.pool1=nn.MaxPool2d((4,1),(4,1))\n",
    "        self.bn1=nn.BatchNorm2d(16)\n",
    "        self.relu=nn.ReLU(inplace=True)\n",
    "        self.conv2=nn.Conv2d(16,32,(9,1),stride=(1,1),padding=(4,0),bias=False)\n",
    "        self.pool2=nn.MaxPool2d((2,1),(2,1))\n",
    "        self.bn2=nn.BatchNorm2d(32)\n",
    "        self.conv3=nn.Conv2d(32,64,(7,1),stride=(1,1),padding=(3,0),bias=False)\n",
    "        self.pool3=nn.MaxPool2d((2,1),(2,1))\n",
    "        self.bn3=nn.BatchNorm2d(64)\n",
    "        #self.conv4=nn.Conv2d(64,128,(7,1),stride=(1,1),padding=(3,0),bias=False)\n",
    "        #self.pool4=nn.MaxPool2d((2,1),(2,1))\n",
    "        #self.bn4=nn.BatchNorm2d(128)\n",
    "        self.fc1=nn.Linear(4*64,64)\n",
    "        self.fc2=nn.Linear(64,2)\n",
    "        #self.conv5=nn.Conv2d(256,1,(1,1),stride=(1,1),bias=False)\n",
    "        self.softmax=nn.Softmax()\n",
    "        self.sigmoid=nn.Sigmoid()\n",
    "    def forward(self,x):\n",
    "        x=self.conv1(x)\n",
    "        x=self.relu(self.pool1(self.bn1(x)))\n",
    "\n",
    "        x=self.conv2(x)\n",
    "        x=self.relu(self.pool2(self.bn2(x)))\n",
    "\n",
    "        x=self.conv3(x)\n",
    "        x=self.relu(self.pool3(self.bn3(x)))\n",
    "\n",
    "        #x=self.conv4(x)\n",
    "        #x=self.relu(self.pool4(self.bn4(x)))\n",
    "\n",
    "        x=self.relu(self.fc1(x.view(-1,4*64)))\n",
    "        x=self.fc2(x)\n",
    "        #x=self.conv5(x)\n",
    "        x=self.softmax(x)\n",
    "        return x\n",
    "    \n",
    "net_64=Net_class_64().double()\n",
    "#net_zoom0=torch.load('/home/yinminghao/GW_nets/net0_zoom0_max1e-21_noise5e-22.pkl')\n",
    "net_64.to(device)"
   ]
  },
  {
   "cell_type": "code",
   "execution_count": 21,
   "metadata": {},
   "outputs": [
    {
     "data": {
      "text/plain": [
       "Net_class_32(\n",
       "  (conv1): Conv2d(1, 16, kernel_size=(17, 1), stride=(1, 1), padding=(8, 0), bias=False)\n",
       "  (pool1): MaxPool2d(kernel_size=(4, 1), stride=(4, 1), padding=0, dilation=1, ceil_mode=False)\n",
       "  (bn1): BatchNorm2d(16, eps=1e-05, momentum=0.1, affine=True, track_running_stats=True)\n",
       "  (relu): ReLU(inplace)\n",
       "  (conv2): Conv2d(16, 32, kernel_size=(9, 1), stride=(1, 1), padding=(4, 0), bias=False)\n",
       "  (pool2): MaxPool2d(kernel_size=(2, 1), stride=(2, 1), padding=0, dilation=1, ceil_mode=False)\n",
       "  (bn2): BatchNorm2d(32, eps=1e-05, momentum=0.1, affine=True, track_running_stats=True)\n",
       "  (conv3): Conv2d(32, 64, kernel_size=(7, 1), stride=(1, 1), padding=(3, 0), bias=False)\n",
       "  (pool3): MaxPool2d(kernel_size=(2, 1), stride=(2, 1), padding=0, dilation=1, ceil_mode=False)\n",
       "  (bn3): BatchNorm2d(64, eps=1e-05, momentum=0.1, affine=True, track_running_stats=True)\n",
       "  (fc1): Linear(in_features=128, out_features=64, bias=True)\n",
       "  (fc2): Linear(in_features=64, out_features=2, bias=True)\n",
       "  (softmax): Softmax()\n",
       "  (sigmoid): Sigmoid()\n",
       ")"
      ]
     },
     "execution_count": 21,
     "metadata": {},
     "output_type": "execute_result"
    }
   ],
   "source": [
    "class Net_class_32(nn.Module):\n",
    "    def __init__(self):\n",
    "        super(Net_class_32,self).__init__()\n",
    "        self.conv1=nn.Conv2d(1,16,(17,1),stride=(1,1),padding=(8,0),bias=False)\n",
    "        self.pool1=nn.MaxPool2d((4,1),(4,1))\n",
    "        self.bn1=nn.BatchNorm2d(16)\n",
    "        self.relu=nn.ReLU(inplace=True)\n",
    "        self.conv2=nn.Conv2d(16,32,(9,1),stride=(1,1),padding=(4,0),bias=False)\n",
    "        self.pool2=nn.MaxPool2d((2,1),(2,1))\n",
    "        self.bn2=nn.BatchNorm2d(32)\n",
    "        self.conv3=nn.Conv2d(32,64,(7,1),stride=(1,1),padding=(3,0),bias=False)\n",
    "        self.pool3=nn.MaxPool2d((2,1),(2,1))\n",
    "        self.bn3=nn.BatchNorm2d(64)\n",
    "        #self.conv4=nn.Conv2d(64,128,(7,1),stride=(1,1),padding=(3,0),bias=False)\n",
    "        #self.pool4=nn.MaxPool2d((2,1),(2,1))\n",
    "        #self.bn4=nn.BatchNorm2d(128)\n",
    "        self.fc1=nn.Linear(2*64,64)\n",
    "        self.fc2=nn.Linear(64,2)\n",
    "        #self.conv5=nn.Conv2d(256,1,(1,1),stride=(1,1),bias=False)\n",
    "        self.softmax=nn.Softmax()\n",
    "        self.sigmoid=nn.Sigmoid()\n",
    "    def forward(self,x):\n",
    "        x=self.conv1(x)\n",
    "        x=self.relu(self.pool1(self.bn1(x)))\n",
    "\n",
    "        x=self.conv2(x)\n",
    "        x=self.relu(self.pool2(self.bn2(x)))\n",
    "\n",
    "        x=self.conv3(x)\n",
    "        x=self.relu(self.pool3(self.bn3(x)))\n",
    "\n",
    "        #x=self.conv4(x)\n",
    "        #x=self.relu(self.pool4(self.bn4(x)))\n",
    "\n",
    "        x=self.relu(self.fc1(x.view(-1,2*64)))\n",
    "        x=self.fc2(x)\n",
    "        #x=self.conv5(x)\n",
    "        x=self.softmax(x)\n",
    "        return x\n",
    "    \n",
    "net_32=Net_class_32().double()\n",
    "#net_zoom0=torch.load('/home/yinminghao/GW_nets/net0_zoom0_max1e-21_noise5e-22.pkl')\n",
    "net_32.to(device)"
   ]
  },
  {
   "cell_type": "code",
   "execution_count": 28,
   "metadata": {},
   "outputs": [
    {
     "data": {
      "text/plain": [
       "Net_class_16(\n",
       "  (conv1): Conv2d(1, 16, kernel_size=(11, 1), stride=(1, 1), padding=(5, 0), bias=False)\n",
       "  (pool1): MaxPool2d(kernel_size=(2, 1), stride=(2, 1), padding=0, dilation=1, ceil_mode=False)\n",
       "  (bn1): BatchNorm2d(16, eps=1e-05, momentum=0.1, affine=True, track_running_stats=True)\n",
       "  (relu): ReLU(inplace)\n",
       "  (conv2): Conv2d(16, 32, kernel_size=(7, 1), stride=(1, 1), padding=(3, 0), bias=False)\n",
       "  (pool2): MaxPool2d(kernel_size=(1, 1), stride=(1, 1), padding=0, dilation=1, ceil_mode=False)\n",
       "  (bn2): BatchNorm2d(32, eps=1e-05, momentum=0.1, affine=True, track_running_stats=True)\n",
       "  (conv3): Conv2d(32, 64, kernel_size=(5, 1), stride=(1, 1), padding=(2, 0), bias=False)\n",
       "  (pool3): MaxPool2d(kernel_size=(1, 1), stride=(1, 1), padding=0, dilation=1, ceil_mode=False)\n",
       "  (bn3): BatchNorm2d(64, eps=1e-05, momentum=0.1, affine=True, track_running_stats=True)\n",
       "  (fc1): Linear(in_features=512, out_features=128, bias=True)\n",
       "  (fc2): Linear(in_features=128, out_features=2, bias=True)\n",
       "  (softmax): Softmax()\n",
       "  (sigmoid): Sigmoid()\n",
       ")"
      ]
     },
     "execution_count": 28,
     "metadata": {},
     "output_type": "execute_result"
    }
   ],
   "source": [
    "class Net_class_16(nn.Module):\n",
    "    def __init__(self):\n",
    "        super(Net_class_16,self).__init__()\n",
    "        self.conv1=nn.Conv2d(1,16,(11,1),stride=(1,1),padding=(5,0),bias=False)\n",
    "        self.pool1=nn.MaxPool2d((2,1),(2,1))\n",
    "        self.bn1=nn.BatchNorm2d(16)\n",
    "        self.relu=nn.ReLU(inplace=True)\n",
    "        self.conv2=nn.Conv2d(16,32,(7,1),stride=(1,1),padding=(3,0),bias=False)\n",
    "        self.pool2=nn.MaxPool2d((1,1),(1,1))\n",
    "        self.bn2=nn.BatchNorm2d(32)\n",
    "        self.conv3=nn.Conv2d(32,64,(5,1),stride=(1,1),padding=(2,0),bias=False)\n",
    "        self.pool3=nn.MaxPool2d((1,1),(1,1))\n",
    "        self.bn3=nn.BatchNorm2d(64)\n",
    "        #self.conv4=nn.Conv2d(64,128,(5,1),stride=(1,1),padding=(2,0),bias=False)\n",
    "        #self.pool4=nn.MaxPool2d((2,1),(2,1))\n",
    "        #self.bn4=nn.BatchNorm2d(128)\n",
    "        self.fc1=nn.Linear(8*64,128)\n",
    "        self.fc2=nn.Linear(128,2)\n",
    "        \n",
    "        #self.conv5=nn.Conv2d(256,1,(1,1),stride=(1,1),bias=False)\n",
    "        self.softmax=nn.Softmax()\n",
    "        self.sigmoid=nn.Sigmoid()\n",
    "    def forward(self,x):\n",
    "        x=self.conv1(x)\n",
    "        x=self.relu(self.pool1(self.bn1(x)))\n",
    "\n",
    "        x=self.conv2(x)\n",
    "        x=self.relu(self.pool2(self.bn2(x)))\n",
    "\n",
    "        x=self.conv3(x)\n",
    "        x=self.relu(self.pool3(self.bn3(x)))\n",
    "\n",
    "        #x=self.conv4(x)\n",
    "        #x=self.relu(self.pool4(self.bn4(x)))\n",
    "\n",
    "        x=self.relu(self.fc1(x.view(-1,8*64)))\n",
    "    \n",
    "        x=self.fc2(x)\n",
    "        #x=self.conv5(x)\n",
    "        x=self.softmax(x)\n",
    "        return x\n",
    "    \n",
    "net_16=Net_class_16().double()\n",
    "#net_zoom0=torch.load('/home/yinminghao/GW_nets/net0_zoom0_max1e-21_noise5e-22.pkl')\n",
    "net_16.to(device)"
   ]
  },
  {
   "cell_type": "code",
   "execution_count": 29,
   "metadata": {},
   "outputs": [],
   "source": [
    "optimizer=torch.optim.Adam(net_16.parameters(),lr=0.0001)"
   ]
  },
  {
   "cell_type": "code",
   "execution_count": 38,
   "metadata": {
    "scrolled": true
   },
   "outputs": [
    {
     "name": "stderr",
     "output_type": "stream",
     "text": [
      "/home/ymh/anaconda3/lib/python3.6/site-packages/ipykernel_launcher.py:40: UserWarning: Implicit dimension choice for softmax has been deprecated. Change the call to include dim=X as an argument.\n"
     ]
    },
    {
     "name": "stdout",
     "output_type": "stream",
     "text": [
      "0.10202516788151936 14\n",
      "0.09293259805542978 9\n",
      "0.1159397383663283 15\n",
      "0.1274058010066216 16\n",
      "0.08380779529620104 11\n",
      "0.08812561449877322 10\n",
      "0.06839008043037847 7\n",
      "0.10624756259371679 11\n",
      "0.09113038462686289 16\n",
      "0.12036485318387896 14\n",
      "0.09718432510027449 12\n",
      "0.11501909423442286 16\n",
      "0.10202084262659912 14\n",
      "0.07747306513949459 7\n",
      "0.10916715497711588 15\n",
      "0.13040309808508296 16\n",
      "0.07371717936903285 11\n",
      "0.11100144853086368 10\n",
      "0.1044444667538194 13\n",
      "0.1735704489336346 20\n",
      "0.12576504720198434 16\n",
      "0.1300653934221227 14\n",
      "0.12875617802173214 16\n",
      "0.15440308815248505 20\n",
      "0.07862059660819565 8\n",
      "0.0949613203710274 12\n",
      "0.11103829404732773 15\n",
      "0.13945707685152733 17\n",
      "0.11254363608732922 12\n",
      "0.1266666067820348 13\n",
      "0.11574459584029921 15\n",
      "0.10869228737392991 18\n",
      "0.11002571859913678 11\n",
      "0.06443496362329909 6\n",
      "0.11332229031423426 18\n",
      "0.10223243686869962 12\n",
      "0.09992669170913142 11\n",
      "0.09284744572414444 11\n",
      "0.09876912344455493 13\n",
      "0.12581297958571186 18\n"
     ]
    }
   ],
   "source": [
    "Nreal=2000\n",
    "batch_size=50\n",
    "det_num=3\n",
    "noise_factor=1.1\n",
    "for step in range(int(Nreal/batch_size)):\n",
    "    optimizer.zero_grad()\n",
    "    waves,waves_c,tc=get_batch(batch_size,step,noise_factor,train_id=8)\n",
    "    \n",
    "    #waves_c,ahtots_c,tc_c=get_batch(batch_size,step,0)\n",
    "    \n",
    "    att=torch.tensor(np.random.randint(0,2,batch_size*3),dtype=torch.double,device=device).view(batch_size*3,1,1,1)\n",
    "    Wave=waves[8]-att*waves_c[8]\n",
    "    out=net_16(Wave)\n",
    "    \n",
    "    att_np=att.squeeze().data.cpu().numpy()\n",
    "    target=torch.ones(3*batch_size,2).double().to(device)\n",
    "    for i in range(3*batch_size):\n",
    "        target[i,int(att_np[i])]=0\n",
    "    loss=-torch.mean(torch.log(out)*target)\n",
    "    loss.backward()\n",
    "    optimizer.step()\n",
    "    \n",
    "    pred=out.max(1)[1]\n",
    "    count=0\n",
    "    for j in range(3*batch_size):\n",
    "        if pred[j].data.cpu().numpy()==int(att.squeeze()[j].data.cpu().numpy()):\n",
    "            count=count+1\n",
    "    print(loss.data.cpu().numpy(),count)\n",
    "    \n",
    "    \n",
    "    "
   ]
  },
  {
   "cell_type": "code",
   "execution_count": 72,
   "metadata": {},
   "outputs": [
    {
     "name": "stderr",
     "output_type": "stream",
     "text": [
      "/home/intelligent/anaconda3/lib/python3.6/site-packages/ipykernel_launcher.py:38: UserWarning: Implicit dimension choice for softmax has been deprecated. Change the call to include dim=X as an argument.\n"
     ]
    },
    {
     "data": {
      "text/plain": [
       "[<matplotlib.lines.Line2D at 0x7f553787f160>]"
      ]
     },
     "execution_count": 72,
     "metadata": {},
     "output_type": "execute_result"
    },
    {
     "data": {
      "image/png": "[encoded data removed]",
      "text/plain": [
       "<matplotlib.figure.Figure at 0x7f5537936860>"
      ]
     },
     "metadata": {},
     "output_type": "display_data"
    }
   ],
   "source": [
    "waves,waves_c,tc=get_batch(2,15,noise_factor=1.0,train_id=10)\n",
    "net1=net_512.eval()\n",
    "history=torch.zeros(15872,6,2).to(device)\n",
    "with torch.no_grad():\n",
    "    for i in range(15872):\n",
    "        out_cut=net1(waves[0][:,:,i:i+512,:])\n",
    "        history[i,:,:]=out_cut.squeeze()\n",
    "plt.plot(waves_c[0][1].squeeze().data.cpu().numpy()[512:15872])\n",
    "plt.plot(history[:,1,0].cpu().data.numpy())"
   ]
  },
  {
   "cell_type": "code",
   "execution_count": 39,
   "metadata": {},
   "outputs": [],
   "source": [
    "torch.save(net_16.state_dict(),'/home/ymh/GW_nets/net_class_16.pkl')"
   ]
  },
  {
   "cell_type": "code",
   "execution_count": 21,
   "metadata": {},
   "outputs": [],
   "source": [
    "optimizer=torch.optim.Adam(net_class1.parameters(),lr=0.0001)"
   ]
  },
  {
   "cell_type": "code",
   "execution_count": 55,
   "metadata": {
    "scrolled": true
   },
   "outputs": [
    {
     "name": "stderr",
     "output_type": "stream",
     "text": [
      "/home/intelligent/anaconda3/lib/python3.6/site-packages/ipykernel_launcher.py:38: UserWarning: Implicit dimension choice for softmax has been deprecated. Change the call to include dim=X as an argument.\n"
     ]
    },
    {
     "name": "stdout",
     "output_type": "stream",
     "text": [
      "0.07791686790558064 10\n",
      "0.04537303439395947 3\n",
      "0.04206712028199268 4\n",
      "0.06571546653563905 6\n",
      "0.06166887539248238 6\n",
      "0.05887158728962164 6\n",
      "0.04420175701282045 2\n",
      "0.05294864600290575 3\n",
      "0.0749550640121506 10\n",
      "0.05611224936593351 4\n",
      "0.07041452019036844 10\n",
      "0.05702170987961564 3\n",
      "0.05390257644601568 5\n",
      "0.051794805508344297 3\n",
      "0.05004572466968654 4\n",
      "0.05932449999334759 6\n",
      "0.09982154205524595 10\n",
      "0.06371513160598534 5\n",
      "0.04791848986962646 5\n",
      "0.07531513396312044 9\n",
      "0.0891047816580031 11\n",
      "0.09458146033834924 13\n",
      "0.041863441942233015 2\n",
      "0.06662488847843584 5\n",
      "0.047880381001129776 3\n",
      "0.05043457378875759 4\n",
      "0.06994794546532541 13\n",
      "0.04715210115938774 7\n",
      "0.06667386606486199 6\n",
      "0.07574358620216441 12\n",
      "0.07348338585557831 11\n",
      "0.04779448173496461 4\n",
      "0.05942332801554437 5\n",
      "0.05736891988462587 7\n",
      "0.041067023336335766 3\n",
      "0.051873695014966435 5\n",
      "0.04523141946730285 4\n",
      "0.0371960007254177 3\n",
      "0.04756708173906692 6\n",
      "0.06406660947812244 7\n"
     ]
    }
   ],
   "source": [
    "Nreal=2000\n",
    "batch_size=50\n",
    "det_num=3\n",
    "noise_factor=0.9\n",
    "for step in range(int(Nreal/batch_size)):\n",
    "    optimizer.zero_grad()\n",
    "    waves,waves_c,tc=get_batch(batch_size,step,noise_factor)\n",
    "    \n",
    "    #waves_c,ahtots_c,tc_c=get_batch(batch_size,step,0)\n",
    "    \n",
    "    att1=torch.tensor(np.random.randint(0,2,batch_size*3),dtype=torch.double,device=device).view(batch_size*3,1,1,1)\n",
    "    Wave1=waves[1]-att1*waves_c[1]\n",
    "    out1=net_class1(Wave1)\n",
    "    \n",
    "    att1_np=att1.squeeze().data.cpu().numpy()\n",
    "    target=torch.ones(3*batch_size,2).double().to(device)\n",
    "    for i in range(3*batch_size):\n",
    "        target[i,int(att1_np[i])]=0\n",
    "    loss1=-torch.mean(torch.log(out1)*target)\n",
    "    loss1.backward()\n",
    "    optimizer.step()\n",
    "    \n",
    "    pred=out1.max(1)[1]\n",
    "    count=0\n",
    "    for j in range(3*batch_size):\n",
    "        if pred[j].data.cpu().numpy()==int(att1.squeeze()[j].data.cpu().numpy()):\n",
    "            count=count+1\n",
    "    print(loss1.data.cpu().numpy(),count)\n",
    "    \n",
    "    "
   ]
  },
  {
   "cell_type": "code",
   "execution_count": 28,
   "metadata": {},
   "outputs": [
    {
     "data": {
      "text/plain": [
       "[<matplotlib.lines.Line2D at 0x7f3e41614e48>]"
      ]
     },
     "execution_count": 28,
     "metadata": {},
     "output_type": "execute_result"
    },
    {
     "data": {
      "image/png": "[encoded data removed]",
      "text/plain": [
       "<matplotlib.figure.Figure at 0x7f3e602b7e80>"
      ]
     },
     "metadata": {},
     "output_type": "display_data"
    }
   ],
   "source": [
    "plt.plot(waves[1][1].squeeze().data.cpu().numpy())\n",
    "plt.plot(waves_c[1][1].squeeze().data.cpu().numpy())"
   ]
  },
  {
   "cell_type": "code",
   "execution_count": 194,
   "metadata": {},
   "outputs": [
    {
     "ename": "TypeError",
     "evalue": "get_batch() missing 1 required positional argument: 'train_id'",
     "output_type": "error",
     "traceback": [
      "\u001b[0;31m---------------------------------------------------------------------------\u001b[0m",
      "\u001b[0;31mTypeError\u001b[0m                                 Traceback (most recent call last)",
      "\u001b[0;32m<ipython-input-194-c732e00c4230>\u001b[0m in \u001b[0;36m<module>\u001b[0;34m()\u001b[0m\n\u001b[0;32m----> 1\u001b[0;31m \u001b[0mwaves\u001b[0m\u001b[0;34m,\u001b[0m\u001b[0mwaves_c\u001b[0m\u001b[0;34m,\u001b[0m\u001b[0mtc\u001b[0m\u001b[0;34m=\u001b[0m\u001b[0mget_batch\u001b[0m\u001b[0;34m(\u001b[0m\u001b[0;36m2\u001b[0m\u001b[0;34m,\u001b[0m\u001b[0;36m15\u001b[0m\u001b[0;34m,\u001b[0m\u001b[0mnoise_factor\u001b[0m\u001b[0;34m)\u001b[0m\u001b[0;34m\u001b[0m\u001b[0m\n\u001b[0m\u001b[1;32m      2\u001b[0m \u001b[0mnet1\u001b[0m\u001b[0;34m=\u001b[0m\u001b[0mnet_class1\u001b[0m\u001b[0;34m.\u001b[0m\u001b[0meval\u001b[0m\u001b[0;34m(\u001b[0m\u001b[0;34m)\u001b[0m\u001b[0;34m\u001b[0m\u001b[0m\n",
      "\u001b[0;31mTypeError\u001b[0m: get_batch() missing 1 required positional argument: 'train_id'"
     ]
    }
   ],
   "source": [
    "waves,waves_c,tc=get_batch(2,15,noise_factor)\n",
    "net1=net_class1.eval()"
   ]
  },
  {
   "cell_type": "code",
   "execution_count": 57,
   "metadata": {},
   "outputs": [
    {
     "name": "stderr",
     "output_type": "stream",
     "text": [
      "/home/intelligent/anaconda3/lib/python3.6/site-packages/ipykernel_launcher.py:38: UserWarning: Implicit dimension choice for softmax has been deprecated. Change the call to include dim=X as an argument.\n"
     ]
    }
   ],
   "source": [
    "history=torch.zeros(14336,6,2).to(device)\n",
    "with torch.no_grad():\n",
    "    for i in range(14336):\n",
    "        out_cut=net1(waves[0][:,:,i:i+2048,:])\n",
    "        history[i,:,:]=out_cut.squeeze()\n",
    "   "
   ]
  },
  {
   "cell_type": "code",
   "execution_count": 63,
   "metadata": {},
   "outputs": [
    {
     "data": {
      "text/plain": [
       "[<matplotlib.lines.Line2D at 0x7f3e3c0d0f60>]"
      ]
     },
     "execution_count": 63,
     "metadata": {},
     "output_type": "execute_result"
    },
    {
     "data": {
      "image/png": "[encoded data removed]",
      "text/plain": [
       "<matplotlib.figure.Figure at 0x7f3e4134f630>"
      ]
     },
     "metadata": {},
     "output_type": "display_data"
    }
   ],
   "source": [
    "plt.plot(waves_c[0][0].squeeze().data.cpu().numpy()[2048:14336])\n",
    "plt.plot(history[:,0,0].cpu().data.numpy())"
   ]
  },
  {
   "cell_type": "code",
   "execution_count": 41,
   "metadata": {},
   "outputs": [
    {
     "data": {
      "text/plain": [
       "torch.Size([6, 1, 16384, 1])"
      ]
     },
     "execution_count": 41,
     "metadata": {},
     "output_type": "execute_result"
    }
   ],
   "source": [
    "waves_c[0].size()"
   ]
  },
  {
   "cell_type": "code",
   "execution_count": 57,
   "metadata": {},
   "outputs": [],
   "source": [
    "optimizer=torch.optim.Adam(net_class2.parameters(),lr=0.0001)"
   ]
  },
  {
   "cell_type": "code",
   "execution_count": 88,
   "metadata": {
    "scrolled": true
   },
   "outputs": [
    {
     "name": "stderr",
     "output_type": "stream",
     "text": [
      "/home/intelligent/anaconda3/lib/python3.6/site-packages/ipykernel_launcher.py:38: UserWarning: Implicit dimension choice for softmax has been deprecated. Change the call to include dim=X as an argument.\n"
     ]
    },
    {
     "name": "stdout",
     "output_type": "stream",
     "text": [
      "0.04672642003541415 4\n",
      "0.08973637074005965 10\n",
      "0.11877170241321129 15\n",
      "0.14370198177945764 20\n",
      "0.10730751435287933 13\n",
      "0.07489794557204622 7\n",
      "0.10783853667224648 16\n",
      "0.09995166476975735 12\n",
      "0.10880011602753702 11\n",
      "0.14905389218559142 17\n",
      "0.0546141375324558 4\n",
      "0.11316820798139192 19\n",
      "0.07727095374653893 9\n",
      "0.15143910074299513 19\n",
      "0.09928987738814474 12\n",
      "0.14749610487410914 16\n",
      "0.10442340523134096 11\n",
      "0.11642932099875739 14\n",
      "0.0829542862215424 9\n",
      "0.07643576446400215 12\n",
      "0.10847971170823074 10\n",
      "0.11305235621172609 13\n",
      "0.095008819768189 10\n",
      "0.12027275516910142 13\n",
      "0.06259969897527952 11\n",
      "0.1280432090102885 20\n",
      "0.10805603166507863 13\n",
      "0.12664880076025822 18\n",
      "0.0913654931753885 13\n",
      "0.10363713453309122 14\n",
      "0.10960413747610107 12\n",
      "0.054086763116638396 7\n",
      "0.13828385898734305 21\n",
      "0.15207235026539948 21\n",
      "0.15404757594645066 16\n",
      "0.09617374727208598 13\n",
      "0.10028152619467273 14\n",
      "0.12610048781133604 12\n",
      "0.11804233631395711 18\n",
      "0.0749061801676644 6\n"
     ]
    }
   ],
   "source": [
    "Nreal=2000\n",
    "batch_size=50\n",
    "det_num=3\n",
    "noise_factor=1.4\n",
    "for step in range(int(Nreal/batch_size)):\n",
    "    optimizer.zero_grad()\n",
    "    waves,waves_c,tc=get_batch(batch_size,step,noise_factor)\n",
    "    \n",
    "    #waves_c,ahtots_c,tc_c=get_batch(batch_size,step,0)\n",
    "    \n",
    "    att2=torch.tensor(np.random.randint(0,2,batch_size*3),dtype=torch.double,device=device).view(batch_size*3,1,1,1)\n",
    "    Wave2=waves[2]-att2*waves_c[2]\n",
    "    out2=net_class2(Wave2)\n",
    "    \n",
    "    att2_np=att2.squeeze().data.cpu().numpy()\n",
    "    target=torch.ones(3*batch_size,2).double().to(device)\n",
    "    for i in range(3*batch_size):\n",
    "        target[i,int(att2_np[i])]=0\n",
    "    loss2=-torch.mean(torch.log(out2)*target)\n",
    "    loss2.backward()\n",
    "    optimizer.step()\n",
    "    \n",
    "    pred=out2.max(1)[1]\n",
    "    count=0\n",
    "    for j in range(3*batch_size):\n",
    "        if pred[j].data.cpu().numpy()==int(att2.squeeze()[j].data.cpu().numpy()):\n",
    "            count=count+1\n",
    "    print(loss2.data.cpu().numpy(),count)"
   ]
  },
  {
   "cell_type": "code",
   "execution_count": 25,
   "metadata": {},
   "outputs": [
    {
     "data": {
      "text/plain": [
       "[<matplotlib.lines.Line2D at 0x7f5562172f28>]"
      ]
     },
     "execution_count": 25,
     "metadata": {},
     "output_type": "execute_result"
    },
    {
     "data": {
      "image/png": "[encoded data removed]",
      "text/plain": [
       "<matplotlib.figure.Figure at 0x7f5562229978>"
      ]
     },
     "metadata": {},
     "output_type": "display_data"
    }
   ],
   "source": [
    "waves,waves_c,tc=get_batch(2,15,noise_factor=1.2,train_id=5)\n",
    "#net2=net_class2.eval()\n",
    "plt.plot(waves[5][3].squeeze().data.cpu().numpy())\n",
    "plt.plot(waves_c[5][3].squeeze().data.cpu().numpy())"
   ]
  },
  {
   "cell_type": "code",
   "execution_count": 95,
   "metadata": {},
   "outputs": [
    {
     "name": "stderr",
     "output_type": "stream",
     "text": [
      "/home/intelligent/anaconda3/lib/python3.6/site-packages/ipykernel_launcher.py:38: UserWarning: Implicit dimension choice for softmax has been deprecated. Change the call to include dim=X as an argument.\n"
     ]
    }
   ],
   "source": [
    "history=torch.zeros(1792,6,2).to(device)\n",
    "with torch.no_grad():\n",
    "    for i in range(1792):\n",
    "        out_cut=net2(waves[1][:,:,i:i+256,:])\n",
    "        history[i,:,:]=out_cut.squeeze()"
   ]
  },
  {
   "cell_type": "code",
   "execution_count": 96,
   "metadata": {},
   "outputs": [
    {
     "data": {
      "text/plain": [
       "[<matplotlib.lines.Line2D at 0x7fa1c41673c8>]"
      ]
     },
     "execution_count": 96,
     "metadata": {},
     "output_type": "execute_result"
    },
    {
     "data": {
      "image/png": "[encoded data removed]",
      "text/plain": [
       "<matplotlib.figure.Figure at 0x7fa1cc0d2860>"
      ]
     },
     "metadata": {},
     "output_type": "display_data"
    }
   ],
   "source": [
    "plt.plot(waves_c[1][3].squeeze().data.cpu().numpy()[256:1792])\n",
    "plt.plot(history[:,3,0].cpu().data.numpy())"
   ]
  },
  {
   "cell_type": "code",
   "execution_count": 30,
   "metadata": {},
   "outputs": [
    {
     "data": {
      "text/plain": [
       "array([0, 2], dtype=int32)"
      ]
     },
     "execution_count": 30,
     "metadata": {},
     "output_type": "execute_result"
    }
   ],
   "source": [
    "np.int32(np.around([0.37,1.64]))"
   ]
  },
  {
   "cell_type": "code",
   "execution_count": 117,
   "metadata": {},
   "outputs": [],
   "source": [
    "optimizer=torch.optim.Adam(net_class2_128.parameters(),lr=0.0001)"
   ]
  },
  {
   "cell_type": "code",
   "execution_count": 124,
   "metadata": {
    "scrolled": true
   },
   "outputs": [
    {
     "name": "stderr",
     "output_type": "stream",
     "text": [
      "/home/intelligent/anaconda3/lib/python3.6/site-packages/ipykernel_launcher.py:38: UserWarning: Implicit dimension choice for softmax has been deprecated. Change the call to include dim=X as an argument.\n"
     ]
    },
    {
     "name": "stdout",
     "output_type": "stream",
     "text": [
      "0.05934197620368297 4\n",
      "0.0784891721088084 7\n",
      "0.08718250729891736 11\n",
      "0.06340077973868552 5\n",
      "0.06985661875736202 7\n",
      "0.054336683971119515 4\n",
      "0.051252205273363036 6\n",
      "0.0845960844020053 7\n",
      "0.05116517076822049 5\n",
      "0.05619673064432895 8\n",
      "0.04979668658863219 7\n",
      "0.07523614371709336 8\n",
      "0.04901289977630625 6\n",
      "0.04825282017601071 6\n",
      "0.06908366749191187 10\n",
      "0.08236687578480555 9\n",
      "0.07551684327305803 10\n",
      "0.06283972357181712 8\n",
      "0.08538303061593758 7\n",
      "0.05032594078505134 5\n",
      "0.06151360267986513 6\n",
      "0.046981547808425124 4\n",
      "0.045894706786115735 5\n",
      "0.0737738131112912 9\n",
      "0.06088160127574813 7\n",
      "0.046778538335155516 4\n",
      "0.05017915244218441 4\n",
      "0.0660630364262473 10\n",
      "0.06144020509229303 6\n",
      "0.034833386358419795 2\n",
      "0.06352855584265259 8\n",
      "0.05051653051041776 5\n",
      "0.05205863533945808 7\n",
      "0.04950384653044606 5\n",
      "0.04873881454464858 5\n",
      "0.06953050352970871 6\n",
      "0.0665274126266195 8\n",
      "0.08002875294978448 11\n",
      "0.05124787240261125 5\n",
      "0.07624738034189517 9\n"
     ]
    }
   ],
   "source": [
    "Nreal=2000\n",
    "batch_size=50\n",
    "det_num=3\n",
    "noise_factor=1.2\n",
    "for step in range(int(Nreal/batch_size)):\n",
    "    optimizer.zero_grad()\n",
    "    waves,waves_c,tc=get_batch(batch_size,step,noise_factor)\n",
    "    \n",
    "    #waves_c,ahtots_c,tc_c=get_batch(batch_size,step,0)\n",
    "    \n",
    "    att2=torch.tensor(np.random.randint(0,2,batch_size*3),dtype=torch.double,device=device).view(batch_size*3,1,1,1)\n",
    "    Wave2=waves[2]-att2*waves_c[2]\n",
    "    out2=net_class2_128(Wave2)\n",
    "    \n",
    "    att2_np=att2.squeeze().data.cpu().numpy()\n",
    "    target=torch.ones(3*batch_size,2).double().to(device)\n",
    "    for i in range(3*batch_size):\n",
    "        target[i,int(att2_np[i])]=0\n",
    "    loss2=-torch.mean(torch.log(out2)*target)\n",
    "    loss2.backward()\n",
    "    optimizer.step()\n",
    "    \n",
    "    pred=out2.max(1)[1]\n",
    "    count=0\n",
    "    for j in range(3*batch_size):\n",
    "        if pred[j].data.cpu().numpy()==int(att2.squeeze()[j].data.cpu().numpy()):\n",
    "            count=count+1\n",
    "    print(loss2.data.cpu().numpy(),count)"
   ]
  },
  {
   "cell_type": "code",
   "execution_count": 139,
   "metadata": {},
   "outputs": [
    {
     "data": {
      "text/plain": [
       "[<matplotlib.lines.Line2D at 0x7fa1bfa36668>]"
      ]
     },
     "execution_count": 139,
     "metadata": {},
     "output_type": "execute_result"
    },
    {
     "data": {
      "image/png": "[encoded data removed]",
      "text/plain": [
       "<matplotlib.figure.Figure at 0x7fa1bfb24320>"
      ]
     },
     "metadata": {},
     "output_type": "display_data"
    }
   ],
   "source": [
    "waves,waves_c,tc=get_batch(2,15,noise_factor=1.0)\n",
    "net2=net_class2_128.eval()\n",
    "plt.plot(waves[0][3].squeeze().data.cpu().numpy())\n",
    "plt.plot(waves_c[0][3].squeeze().data.cpu().numpy())"
   ]
  },
  {
   "cell_type": "code",
   "execution_count": 140,
   "metadata": {},
   "outputs": [
    {
     "name": "stderr",
     "output_type": "stream",
     "text": [
      "/home/intelligent/anaconda3/lib/python3.6/site-packages/ipykernel_launcher.py:38: UserWarning: Implicit dimension choice for softmax has been deprecated. Change the call to include dim=X as an argument.\n"
     ]
    }
   ],
   "source": [
    "history=torch.zeros(1920,6,2).to(device)\n",
    "with torch.no_grad():\n",
    "    for i in range(1920):\n",
    "        out_cut=net2(waves[1][:,:,i:i+128,:])\n",
    "        history[i,:,:]=out_cut.squeeze()"
   ]
  },
  {
   "cell_type": "code",
   "execution_count": 141,
   "metadata": {},
   "outputs": [
    {
     "data": {
      "text/plain": [
       "[<matplotlib.lines.Line2D at 0x7fa1bf9a1400>]"
      ]
     },
     "execution_count": 141,
     "metadata": {},
     "output_type": "execute_result"
    },
    {
     "data": {
      "image/png": "[encoded data removed]",
      "text/plain": [
       "<matplotlib.figure.Figure at 0x7fa1bfa7add8>"
      ]
     },
     "metadata": {},
     "output_type": "display_data"
    }
   ],
   "source": [
    "plt.plot(waves_c[1][3].squeeze().data.cpu().numpy()[128:1920])\n",
    "plt.plot(history[:,3,0].cpu().data.numpy())"
   ]
  },
  {
   "cell_type": "code",
   "execution_count": 144,
   "metadata": {},
   "outputs": [],
   "source": [
    "optimizer=torch.optim.Adam(net_class2_64.parameters(),lr=0.0001)"
   ]
  },
  {
   "cell_type": "code",
   "execution_count": null,
   "metadata": {},
   "outputs": [],
   "source": [
    "Nreal=2000\n",
    "batch_size=50\n",
    "det_num=3\n",
    "noise_factor=1.0\n",
    "for step in range(int(Nreal/batch_size)):\n",
    "    optimizer.zero_grad()\n",
    "    waves,waves_c,tc=get_batch(batch_size,step,noise_factor)\n",
    "    \n",
    "    #waves_c,ahtots_c,tc_c=get_batch(batch_size,step,0)\n",
    "    \n",
    "    att2=torch.tensor(np.random.randint(0,2,batch_size*3),dtype=torch.double,device=device).view(batch_size*3,1,1,1)\n",
    "    Wave2=waves[2]-att2*waves_c[2]\n",
    "    out2=net_class2_64(Wave2)\n",
    "    \n",
    "    att2_np=att2.squeeze().data.cpu().numpy()\n",
    "    target=torch.ones(3*batch_size,2).double().to(device)\n",
    "    for i in range(3*batch_size):\n",
    "        target[i,int(att2_np[i])]=0\n",
    "    loss2=-torch.mean(torch.log(out2)*target)\n",
    "    loss2.backward()\n",
    "    optimizer.step()\n",
    "    \n",
    "    pred=out2.max(1)[1]\n",
    "    count=0\n",
    "    for j in range(3*batch_size):\n",
    "        if pred[j].data.cpu().numpy()==int(att2.squeeze()[j].data.cpu().numpy()):\n",
    "            count=count+1\n",
    "    print(loss2.data.cpu().numpy(),count)"
   ]
  },
  {
   "cell_type": "code",
   "execution_count": 16,
   "metadata": {},
   "outputs": [
    {
     "name": "stdout",
     "output_type": "stream",
     "text": [
      "1\n",
      "2\n",
      "3\n",
      "4\n",
      "5\n",
      "6\n"
     ]
    }
   ],
   "source": [
    "for mm in range(1,7):\n",
    "        print(mm)"
   ]
  },
  {
   "cell_type": "code",
   "execution_count": 15,
   "metadata": {},
   "outputs": [
    {
     "name": "stdout",
     "output_type": "stream",
     "text": [
      "Help on class range in module builtins:\n",
      "\n",
      "class range(object)\n",
      " |  range(stop) -> range object\n",
      " |  range(start, stop[, step]) -> range object\n",
      " |  \n",
      " |  Return an object that produces a sequence of integers from start (inclusive)\n",
      " |  to stop (exclusive) by step.  range(i, j) produces i, i+1, i+2, ..., j-1.\n",
      " |  start defaults to 0, and stop is omitted!  range(4) produces 0, 1, 2, 3.\n",
      " |  These are exactly the valid indices for a list of 4 elements.\n",
      " |  When step is given, it specifies the increment (or decrement).\n",
      " |  \n",
      " |  Methods defined here:\n",
      " |  \n",
      " |  __bool__(self, /)\n",
      " |      self != 0\n",
      " |  \n",
      " |  __contains__(self, key, /)\n",
      " |      Return key in self.\n",
      " |  \n",
      " |  __eq__(self, value, /)\n",
      " |      Return self==value.\n",
      " |  \n",
      " |  __ge__(self, value, /)\n",
      " |      Return self>=value.\n",
      " |  \n",
      " |  __getattribute__(self, name, /)\n",
      " |      Return getattr(self, name).\n",
      " |  \n",
      " |  __getitem__(self, key, /)\n",
      " |      Return self[key].\n",
      " |  \n",
      " |  __gt__(self, value, /)\n",
      " |      Return self>value.\n",
      " |  \n",
      " |  __hash__(self, /)\n",
      " |      Return hash(self).\n",
      " |  \n",
      " |  __iter__(self, /)\n",
      " |      Implement iter(self).\n",
      " |  \n",
      " |  __le__(self, value, /)\n",
      " |      Return self<=value.\n",
      " |  \n",
      " |  __len__(self, /)\n",
      " |      Return len(self).\n",
      " |  \n",
      " |  __lt__(self, value, /)\n",
      " |      Return self<value.\n",
      " |  \n",
      " |  __ne__(self, value, /)\n",
      " |      Return self!=value.\n",
      " |  \n",
      " |  __new__(*args, **kwargs) from builtins.type\n",
      " |      Create and return a new object.  See help(type) for accurate signature.\n",
      " |  \n",
      " |  __reduce__(...)\n",
      " |      helper for pickle\n",
      " |  \n",
      " |  __repr__(self, /)\n",
      " |      Return repr(self).\n",
      " |  \n",
      " |  __reversed__(...)\n",
      " |      Return a reverse iterator.\n",
      " |  \n",
      " |  count(...)\n",
      " |      rangeobject.count(value) -> integer -- return number of occurrences of value\n",
      " |  \n",
      " |  index(...)\n",
      " |      rangeobject.index(value, [start, [stop]]) -> integer -- return index of value.\n",
      " |      Raise ValueError if the value is not present.\n",
      " |  \n",
      " |  ----------------------------------------------------------------------\n",
      " |  Data descriptors defined here:\n",
      " |  \n",
      " |  start\n",
      " |  \n",
      " |  step\n",
      " |  \n",
      " |  stop\n",
      "\n"
     ]
    }
   ],
   "source": [
    "help(range)"
   ]
  },
  {
   "cell_type": "code",
   "execution_count": null,
   "metadata": {},
   "outputs": [],
   "source": []
  }
 ],
 "metadata": {
  "kernelspec": {
   "display_name": "Python 3",
   "language": "python",
   "name": "python3"
  },
  "language_info": {
   "codemirror_mode": {
    "name": "ipython",
    "version": 3
   },
   "file_extension": ".py",
   "mimetype": "text/x-python",
   "name": "python",
   "nbconvert_exporter": "python",
   "pygments_lexer": "ipython3",
   "version": "3.7.3"
  }
 },
 "nbformat": 4,
 "nbformat_minor": 2
}
